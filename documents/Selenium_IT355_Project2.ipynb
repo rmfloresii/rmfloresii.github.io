{
  "nbformat": 4,
  "nbformat_minor": 0,
  "metadata": {
    "colab": {
      "provenance": []
    },
    "kernelspec": {
      "name": "python3",
      "display_name": "Python 3"
    },
    "language_info": {
      "name": "python"
    }
  },
  "cells": [
    {
      "cell_type": "markdown",
      "source": [
        "## Update apt cache and install pre-reqs"
      ],
      "metadata": {
        "id": "q2TZFPW0_oF0"
      }
    },
    {
      "cell_type": "code",
      "execution_count": null,
      "metadata": {
        "id": "Oxtf0vqD_GaF",
        "collapsed": true
      },
      "outputs": [],
      "source": [
        "!apt-get update\n",
        "!pip install selenium\n",
        "!apt install chromium-chromedriver"
      ]
    },
    {
      "cell_type": "markdown",
      "source": [
        "## Load Selenium Web Driver"
      ],
      "metadata": {
        "id": "JZUGvPUd_klj"
      }
    },
    {
      "cell_type": "code",
      "source": [
        "from selenium import webdriver\n",
        "from selenium.webdriver.chrome.service import Service\n",
        "\n",
        "chrome_options = webdriver.ChromeOptions()\n",
        "chrome_options.add_argument('--window-size=2050,2050')\n",
        "chrome_options.add_argument('--headless')\n",
        "chrome_options.add_argument('--no-sandbox')\n",
        "chrome_options.add_argument('--disable-dev-shm-usage')\n",
        "driver = webdriver.Chrome(options=chrome_options)"
      ],
      "metadata": {
        "id": "7WysmBYm_-BI"
      },
      "execution_count": null,
      "outputs": []
    },
    {
      "cell_type": "markdown",
      "source": [
        "## Define URL to test"
      ],
      "metadata": {
        "id": "z7OgoU9SB3p5"
      }
    },
    {
      "cell_type": "code",
      "source": [
        "base_url = \"https://www.calculator.net/ip-subnet-calculator.html\"\n",
        "driver.get(base_url)\n",
        "driver.title"
      ],
      "metadata": {
        "id": "3h61QsP5B60D"
      },
      "execution_count": null,
      "outputs": []
    },
    {
      "cell_type": "markdown",
      "source": [
        "## Import By function to locate form elements"
      ],
      "metadata": {
        "id": "i4dlRFKcCVlq"
      }
    },
    {
      "cell_type": "code",
      "source": [
        "from selenium.webdriver.common.by import By\n",
        "from selenium.webdriver.support.ui import Select\n",
        "\n",
        "subnetFieldXpath = '//*[@id=\"csubnet\"]'\n",
        "ipv4FieldXpath = '//*[@id=\"cip\"]'\n",
        "calculateBtnXpath = '/html/body/div[3]/div[1]/div[2]/form/table/tbody/tr[4]/td/input[2]'\n",
        "subnetField = driver.find_element(By.XPATH, subnetFieldXpath)\n",
        "selectSubnetField = Select(subnetField)\n",
        "ipv4Field = driver.find_element(By.XPATH, ipv4FieldXpath)\n",
        "calculateBtn = driver.find_element(By.XPATH, calculateBtnXpath)"
      ],
      "metadata": {
        "id": "qD6Bo9LmCZm1"
      },
      "execution_count": null,
      "outputs": []
    },
    {
      "cell_type": "markdown",
      "source": [
        "## Test Valid Private IP address"
      ],
      "metadata": {
        "id": "pwHRxogLDurA"
      }
    },
    {
      "cell_type": "code",
      "source": [
        "selectSubnetField.select_by_visible_text(\"255.255.255.0 /24\")\n",
        "ipv4Field.clear()\n",
        "ipv4Field.send_keys(\"192.168.25.27\")\n",
        "calculateBtn.click()\n",
        "ipv4AddressXpath = '/html/body/div[3]/div[1]/table[1]/tbody/tr[1]/td[2]'\n",
        "networkAddressXpath = '/html/body/div[3]/div[1]/table[1]/tbody/tr[2]/td[2]'\n",
        "usableHostsXpath = '/html/body/div[3]/div[1]/table[1]/tbody/tr[6]/td[2]'\n",
        "ipv4Address = driver.find_element(By.XPATH, ipv4AddressXpath).text\n",
        "networkAddress = driver.find_element(By.XPATH, networkAddressXpath).text\n",
        "usableHosts = driver.find_element(By.XPATH, usableHostsXpath).text"
      ],
      "metadata": {
        "id": "lXl5t8msDyHo"
      },
      "execution_count": null,
      "outputs": []
    },
    {
      "cell_type": "markdown",
      "source": [
        "## Print outputs and test results"
      ],
      "metadata": {
        "id": "CqwYSmghrKTr"
      }
    },
    {
      "cell_type": "code",
      "source": [
        "testResult = \"PASS\"\n",
        "print(f'Entered Address was:        {ipv4Address}')\n",
        "print(f'\\nNetwork Address should be:  192.168.25.0')\n",
        "print(f'Network Address calculated: {networkAddress}')\n",
        "print(f'  Network Address Result:   ', end='')\n",
        "if networkAddress == \"192.168.25.0\":\n",
        "  print(\"PASS\")\n",
        "else:\n",
        "  print(\"FAIL\")\n",
        "  testResult = \"FAIL\"\n",
        "print(f'\\nNum Usable Hosts expected:  254')\n",
        "print(f'Usable Hosts calculated:    {usableHosts}')\n",
        "print(f'  Num Usable Hosts Result:  ', end='')\n",
        "if usableHosts == \"254\":\n",
        "  print(\"PASS\")\n",
        "else:\n",
        "  print(\"FAIL\")\n",
        "  testResult = \"FAIL\"\n",
        "print(f'\\nCulmulative result of Test: {testResult}')"
      ],
      "metadata": {
        "id": "zLEKsMPTrOZ8"
      },
      "execution_count": null,
      "outputs": []
    }
  ]
}